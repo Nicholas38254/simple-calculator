{
  "nbformat": 4,
  "nbformat_minor": 0,
  "metadata": {
    "colab": {
      "provenance": []
    },
    "kernelspec": {
      "name": "python3",
      "display_name": "Python 3"
    },
    "language_info": {
      "name": "python"
    }
  },
  "cells": [
    {
      "cell_type": "markdown",
      "source": [
        "Session 1"
      ],
      "metadata": {
        "id": "MMJaq2-U8GgG"
      }
    },
    {
      "cell_type": "markdown",
      "source": [
        "## **Mathematical Manipulations**\n",
        "\n",
        "*   Addition\n",
        "*   Subtraction\n",
        "*   Multiplication\n",
        "*   Division\n",
        "\n",
        "\n",
        "\n",
        "\n",
        "\n"
      ],
      "metadata": {
        "id": "7emJWaj4iCjc"
      }
    },
    {
      "cell_type": "markdown",
      "source": [
        "***Variable declaration***"
      ],
      "metadata": {
        "id": "qDTCvCMviqji"
      }
    },
    {
      "cell_type": "code",
      "source": [
        "a=10\n",
        "b=8"
      ],
      "metadata": {
        "id": "OeCieJTbivbd"
      },
      "execution_count": null,
      "outputs": []
    },
    {
      "cell_type": "markdown",
      "source": [
        "adding the two numbers"
      ],
      "metadata": {
        "id": "P2Rb78r9jlgK"
      }
    },
    {
      "cell_type": "code",
      "source": [
        "a+b"
      ],
      "metadata": {
        "colab": {
          "base_uri": "https://localhost:8080/"
        },
        "id": "i-PqPclEi_SJ",
        "outputId": "283fe292-1c33-4a1b-da8f-6ca031ee3905"
      },
      "execution_count": null,
      "outputs": [
        {
          "output_type": "execute_result",
          "data": {
            "text/plain": [
              "18"
            ]
          },
          "metadata": {},
          "execution_count": 4
        }
      ]
    },
    {
      "cell_type": "markdown",
      "source": [
        "subtracting the two numbers"
      ],
      "metadata": {
        "id": "e6MpzJOGj5t1"
      }
    },
    {
      "cell_type": "code",
      "source": [
        "a-b"
      ],
      "metadata": {
        "colab": {
          "base_uri": "https://localhost:8080/"
        },
        "id": "MGRnaCfTjPyU",
        "outputId": "fb6f1bfd-6fdb-457a-a931-265e1a3ec472"
      },
      "execution_count": null,
      "outputs": [
        {
          "output_type": "execute_result",
          "data": {
            "text/plain": [
              "2"
            ]
          },
          "metadata": {},
          "execution_count": 5
        }
      ]
    },
    {
      "cell_type": "markdown",
      "source": [
        "multiplication of the two numbers"
      ],
      "metadata": {
        "id": "Pq2yDSUvkBDM"
      }
    },
    {
      "cell_type": "code",
      "source": [
        "a*b"
      ],
      "metadata": {
        "colab": {
          "base_uri": "https://localhost:8080/"
        },
        "id": "M2DAmaRajU2L",
        "outputId": "4d9b3a70-77c7-43c8-f021-fecfd026f005"
      },
      "execution_count": null,
      "outputs": [
        {
          "output_type": "execute_result",
          "data": {
            "text/plain": [
              "80"
            ]
          },
          "metadata": {},
          "execution_count": 6
        }
      ]
    },
    {
      "cell_type": "markdown",
      "source": [
        "division of the two numbers"
      ],
      "metadata": {
        "id": "aZvU9i9ykHYe"
      }
    },
    {
      "cell_type": "code",
      "source": [
        "a/b"
      ],
      "metadata": {
        "colab": {
          "base_uri": "https://localhost:8080/"
        },
        "id": "dfy3uFz4jZK_",
        "outputId": "4867864b-ba70-43fb-ba53-f956ab3cb398"
      },
      "execution_count": null,
      "outputs": [
        {
          "output_type": "execute_result",
          "data": {
            "text/plain": [
              "1.25"
            ]
          },
          "metadata": {},
          "execution_count": 7
        }
      ]
    },
    {
      "cell_type": "markdown",
      "source": [
        "***Improved result display***"
      ],
      "metadata": {
        "id": "5LNMGaEvkQ72"
      }
    },
    {
      "cell_type": "code",
      "source": [
        "print('The sum of',a, 'plus', b, 'is',a+b)"
      ],
      "metadata": {
        "colab": {
          "base_uri": "https://localhost:8080/"
        },
        "id": "knevyBKQkWCg",
        "outputId": "ae850e3c-a478-4eef-9fc0-40ada63b7584"
      },
      "execution_count": null,
      "outputs": [
        {
          "output_type": "stream",
          "name": "stdout",
          "text": [
            "The sum of 10 plus 8 is 18\n"
          ]
        }
      ]
    },
    {
      "cell_type": "markdown",
      "source": [
        "A being 10 and b being 8 their sum will add upto 18"
      ],
      "metadata": {
        "id": "nMfrRPWvlU7w"
      }
    },
    {
      "cell_type": "code",
      "source": [
        "from re import T\n",
        "print('the difference between',a,'and',b,'is',a-b)"
      ],
      "metadata": {
        "colab": {
          "base_uri": "https://localhost:8080/"
        },
        "id": "LbSt-Ykblpy9",
        "outputId": "96ac55c2-b433-4f8d-8018-f57057f72743"
      },
      "execution_count": null,
      "outputs": [
        {
          "output_type": "stream",
          "name": "stdout",
          "text": [
            "the difference between 10 and 8 is 2\n"
          ]
        }
      ]
    },
    {
      "cell_type": "markdown",
      "source": [
        "A being 10 and b being 8 their difference is 2"
      ],
      "metadata": {
        "id": "xtti4t4mmtcV"
      }
    },
    {
      "cell_type": "code",
      "source": [
        "print('The product between',a,'and',b,'is',a*b)"
      ],
      "metadata": {
        "colab": {
          "base_uri": "https://localhost:8080/"
        },
        "id": "yAOBJMSPm5mf",
        "outputId": "fa9b3717-9cd7-4cfb-8fe0-d3975ed01fbb"
      },
      "execution_count": null,
      "outputs": [
        {
          "output_type": "stream",
          "name": "stdout",
          "text": [
            "The product between 10 and 8 is 80\n"
          ]
        }
      ]
    },
    {
      "cell_type": "markdown",
      "source": [
        "A being 10 and b being 8 their product is 80"
      ],
      "metadata": {
        "id": "th2Xor6TnxqI"
      }
    },
    {
      "cell_type": "code",
      "source": [
        "print('The quotient of ',a,'and',b,'is',a/b)"
      ],
      "metadata": {
        "colab": {
          "base_uri": "https://localhost:8080/"
        },
        "id": "R74tJF6on-9g",
        "outputId": "d73229c9-4531-4bd0-a1fb-5dc1cef87503"
      },
      "execution_count": null,
      "outputs": [
        {
          "output_type": "stream",
          "name": "stdout",
          "text": [
            "The quotient of  10 and 8 is 1.25\n"
          ]
        }
      ]
    },
    {
      "cell_type": "markdown",
      "source": [
        "A being 10 and b being 8 their quotient is 1.25"
      ],
      "metadata": {
        "id": "jDGMeDSiokJz"
      }
    },
    {
      "cell_type": "markdown",
      "source": [
        "division with modulus remainder"
      ],
      "metadata": {
        "id": "pS238UX8o6Ut"
      }
    },
    {
      "cell_type": "code",
      "source": [
        "c=17\n",
        "d=3"
      ],
      "metadata": {
        "id": "U8N9BenKo1bn"
      },
      "execution_count": null,
      "outputs": []
    },
    {
      "cell_type": "code",
      "source": [
        "c/d"
      ],
      "metadata": {
        "colab": {
          "base_uri": "https://localhost:8080/"
        },
        "id": "9Rw4fs2_pNFH",
        "outputId": "2c823419-55c3-4eca-e6bb-c701de33d54e"
      },
      "execution_count": null,
      "outputs": [
        {
          "output_type": "execute_result",
          "data": {
            "text/plain": [
              "5.666666666666667"
            ]
          },
          "metadata": {},
          "execution_count": 29
        }
      ]
    },
    {
      "cell_type": "code",
      "source": [
        "c//d"
      ],
      "metadata": {
        "colab": {
          "base_uri": "https://localhost:8080/"
        },
        "id": "IjpDvm7ypS-O",
        "outputId": "9151ddd7-a6a1-496c-9715-d52b58b3d740"
      },
      "execution_count": null,
      "outputs": [
        {
          "output_type": "execute_result",
          "data": {
            "text/plain": [
              "5"
            ]
          },
          "metadata": {},
          "execution_count": 30
        }
      ]
    },
    {
      "cell_type": "code",
      "source": [
        "c%d"
      ],
      "metadata": {
        "colab": {
          "base_uri": "https://localhost:8080/"
        },
        "id": "mfPCKF47pXRw",
        "outputId": "fe8a1777-6eec-425c-a4c3-4088a42d8766"
      },
      "execution_count": null,
      "outputs": [
        {
          "output_type": "execute_result",
          "data": {
            "text/plain": [
              "2"
            ]
          },
          "metadata": {},
          "execution_count": 31
        }
      ]
    },
    {
      "cell_type": "code",
      "source": [
        "print('the quotient of',c,'and',b, 'is',c/b)"
      ],
      "metadata": {
        "colab": {
          "base_uri": "https://localhost:8080/"
        },
        "id": "N3O3wyPmqLQV",
        "outputId": "23e6a2bd-d6eb-422e-ea52-ec5ccb76444f"
      },
      "execution_count": null,
      "outputs": [
        {
          "output_type": "stream",
          "name": "stdout",
          "text": [
            "the quotient of 17 and 3 is 5.666666666666667\n"
          ]
        }
      ]
    },
    {
      "cell_type": "code",
      "source": [
        "print('the remainder after dividing',c,'and',d,'is',c%d)"
      ],
      "metadata": {
        "colab": {
          "base_uri": "https://localhost:8080/"
        },
        "id": "iLUG-mf8rQ97",
        "outputId": "10f5d1f1-4903-4a39-9d42-65e77849811e"
      },
      "execution_count": null,
      "outputs": [
        {
          "output_type": "stream",
          "name": "stdout",
          "text": [
            "the remainder after dividing 17 and 3 is 2\n"
          ]
        }
      ]
    },
    {
      "cell_type": "code",
      "source": [
        "print('The quotient of',c, 'and',d,'is',c//d,'remainder',c%d)"
      ],
      "metadata": {
        "colab": {
          "base_uri": "https://localhost:8080/"
        },
        "id": "XyJkDIIIr6im",
        "outputId": "caeac22c-55a9-4e06-e72d-35f9f97b20e8"
      },
      "execution_count": null,
      "outputs": [
        {
          "output_type": "stream",
          "name": "stdout",
          "text": [
            "The quotient of 17 and 3 is 5 remainder 2\n"
          ]
        }
      ]
    },
    {
      "cell_type": "markdown",
      "source": [
        "***Exponents***"
      ],
      "metadata": {
        "id": "3uJX5ujjseOI"
      }
    },
    {
      "cell_type": "code",
      "source": [
        "base=8\n",
        "exponent=3"
      ],
      "metadata": {
        "id": "ET_OrILismJI"
      },
      "execution_count": null,
      "outputs": []
    },
    {
      "cell_type": "code",
      "source": [
        "base**exponent"
      ],
      "metadata": {
        "colab": {
          "base_uri": "https://localhost:8080/"
        },
        "id": "IL9H8yz5tB2i",
        "outputId": "e193cc71-6fc5-4efe-93a8-85c1ab780dce"
      },
      "execution_count": null,
      "outputs": [
        {
          "output_type": "execute_result",
          "data": {
            "text/plain": [
              "512"
            ]
          },
          "metadata": {},
          "execution_count": 40
        }
      ]
    },
    {
      "cell_type": "code",
      "source": [
        "print('8 raised to power 3 is',base**exponent )"
      ],
      "metadata": {
        "colab": {
          "base_uri": "https://localhost:8080/"
        },
        "id": "wOx-ed6MtZRz",
        "outputId": "a3b12054-729d-4cd3-8ff8-a56d8d6601d9"
      },
      "execution_count": null,
      "outputs": [
        {
          "output_type": "stream",
          "name": "stdout",
          "text": [
            "8 raised to power 3 is 512\n"
          ]
        }
      ]
    },
    {
      "cell_type": "markdown",
      "source": [
        "***Area of a rectangle***"
      ],
      "metadata": {
        "id": "mt8rtrOduwNI"
      }
    },
    {
      "cell_type": "code",
      "source": [
        "width=5\n",
        "height=4"
      ],
      "metadata": {
        "id": "RbyFufLzuJbf"
      },
      "execution_count": null,
      "outputs": []
    },
    {
      "cell_type": "code",
      "source": [
        "width*height"
      ],
      "metadata": {
        "colab": {
          "base_uri": "https://localhost:8080/"
        },
        "id": "On7og7qDu8v5",
        "outputId": "2b5a518d-e14f-4371-f206-88c0c4e108fa"
      },
      "execution_count": null,
      "outputs": [
        {
          "output_type": "execute_result",
          "data": {
            "text/plain": [
              "20"
            ]
          },
          "metadata": {},
          "execution_count": 45
        }
      ]
    },
    {
      "cell_type": "code",
      "source": [
        "print('The area of a rectangle width 5 and height 4 is',width*height)"
      ],
      "metadata": {
        "colab": {
          "base_uri": "https://localhost:8080/"
        },
        "id": "1WvBFPUpvFWa",
        "outputId": "704d5de2-f951-4cbe-de91-5d0029aa16b4"
      },
      "execution_count": null,
      "outputs": [
        {
          "output_type": "stream",
          "name": "stdout",
          "text": [
            "The area of a rectangle width 5 and height 4 is 20\n"
          ]
        }
      ]
    },
    {
      "cell_type": "markdown",
      "source": [
        "***REVISION***"
      ],
      "metadata": {
        "id": "j4jLaOMgv0F8"
      }
    },
    {
      "cell_type": "markdown",
      "source": [
        "***Area of a rectangle***"
      ],
      "metadata": {
        "id": "O62r9gAO-L37"
      }
    },
    {
      "cell_type": "code",
      "source": [
        "breath=6\n",
        "extent=4"
      ],
      "metadata": {
        "id": "ll9nbvYP-qEG"
      },
      "execution_count": null,
      "outputs": []
    },
    {
      "cell_type": "code",
      "source": [
        "breath*extent"
      ],
      "metadata": {
        "colab": {
          "base_uri": "https://localhost:8080/"
        },
        "id": "LzHXfBaDAAo3",
        "outputId": "dacd962e-622c-4f92-84e6-6637065f8d8b"
      },
      "execution_count": null,
      "outputs": [
        {
          "output_type": "execute_result",
          "data": {
            "text/plain": [
              "24"
            ]
          },
          "metadata": {},
          "execution_count": 3
        }
      ]
    },
    {
      "cell_type": "code",
      "source": [
        "print(\"The area of a rectangle breath 6 and extent 4 is\",breath*extent)"
      ],
      "metadata": {
        "colab": {
          "base_uri": "https://localhost:8080/"
        },
        "id": "i-wE9_xV_iM-",
        "outputId": "f8ca1e09-c18b-48d2-923a-fd17cbc6a3f3"
      },
      "execution_count": null,
      "outputs": [
        {
          "output_type": "stream",
          "name": "stdout",
          "text": [
            "The area of a rectangle breath 6 and extent 4 is 24\n"
          ]
        }
      ]
    },
    {
      "cell_type": "markdown",
      "source": [
        "***Exponents***"
      ],
      "metadata": {
        "id": "W8tpNczxAcPR"
      }
    },
    {
      "cell_type": "code",
      "source": [
        "base=6\n",
        "exponent=2"
      ],
      "metadata": {
        "id": "foxAWDu4Ajir"
      },
      "execution_count": null,
      "outputs": []
    },
    {
      "cell_type": "code",
      "source": [
        "base**exponent"
      ],
      "metadata": {
        "colab": {
          "base_uri": "https://localhost:8080/"
        },
        "id": "ZutCqleIA5Fy",
        "outputId": "7e62fa22-4fdf-4fcc-fc37-6cdea17c3e72"
      },
      "execution_count": null,
      "outputs": [
        {
          "output_type": "execute_result",
          "data": {
            "text/plain": [
              "36"
            ]
          },
          "metadata": {},
          "execution_count": 6
        }
      ]
    },
    {
      "cell_type": "code",
      "source": [
        "print(\"6 raised to power 2 is\",base**exponent)"
      ],
      "metadata": {
        "colab": {
          "base_uri": "https://localhost:8080/"
        },
        "id": "JWov7htzBFqv",
        "outputId": "5638e651-047e-4874-b2c8-35614a24ed46"
      },
      "execution_count": null,
      "outputs": [
        {
          "output_type": "stream",
          "name": "stdout",
          "text": [
            "6 raised to power 2 is 36\n"
          ]
        }
      ]
    },
    {
      "cell_type": "markdown",
      "source": [
        "6 raised to power 2 is 36"
      ],
      "metadata": {
        "id": "ZmamW7PfBfgb"
      }
    },
    {
      "cell_type": "markdown",
      "source": [
        "Division with modulus remainder"
      ],
      "metadata": {
        "id": "0Nevz1kZBrzn"
      }
    },
    {
      "cell_type": "code",
      "source": [
        "e=5\n",
        "f=3"
      ],
      "metadata": {
        "id": "2hdn96sJB1tx"
      },
      "execution_count": null,
      "outputs": []
    },
    {
      "cell_type": "code",
      "source": [
        "e/f"
      ],
      "metadata": {
        "colab": {
          "base_uri": "https://localhost:8080/"
        },
        "id": "pbgNJj7LCCot",
        "outputId": "7faf0368-52c6-4fc0-97c4-6f4fd6db7474"
      },
      "execution_count": null,
      "outputs": [
        {
          "output_type": "execute_result",
          "data": {
            "text/plain": [
              "1.6666666666666667"
            ]
          },
          "metadata": {},
          "execution_count": 10
        }
      ]
    },
    {
      "cell_type": "code",
      "source": [
        "e//f"
      ],
      "metadata": {
        "colab": {
          "base_uri": "https://localhost:8080/"
        },
        "id": "VGdAknItCWiy",
        "outputId": "3a7a90fa-792a-4df9-ef3e-518c5a49e93d"
      },
      "execution_count": null,
      "outputs": [
        {
          "output_type": "execute_result",
          "data": {
            "text/plain": [
              "1"
            ]
          },
          "metadata": {},
          "execution_count": 11
        }
      ]
    },
    {
      "cell_type": "code",
      "source": [
        "e%f"
      ],
      "metadata": {
        "colab": {
          "base_uri": "https://localhost:8080/"
        },
        "id": "OwRMJgA1ChBO",
        "outputId": "c0790003-dbe3-4f19-8148-a113553ee52e"
      },
      "execution_count": null,
      "outputs": [
        {
          "output_type": "execute_result",
          "data": {
            "text/plain": [
              "2"
            ]
          },
          "metadata": {},
          "execution_count": 12
        }
      ]
    },
    {
      "cell_type": "code",
      "source": [
        "print(\"The quotient of \",e, \"and\",f,\"is\",e/f)"
      ],
      "metadata": {
        "colab": {
          "base_uri": "https://localhost:8080/"
        },
        "id": "uDFnOXbNCmnx",
        "outputId": "338a362c-0f62-4ecc-c25f-be0bc0844f1c"
      },
      "execution_count": null,
      "outputs": [
        {
          "output_type": "stream",
          "name": "stdout",
          "text": [
            "The quotient of  5 and 3 is 1.6666666666666667\n"
          ]
        }
      ]
    },
    {
      "cell_type": "code",
      "source": [
        "print('The remainder after dividing',e,\"and\",f, \"is\",e%f)"
      ],
      "metadata": {
        "colab": {
          "base_uri": "https://localhost:8080/"
        },
        "id": "BOae1oU3DXMP",
        "outputId": "a6dc276f-f3c5-4044-80db-65459289fd18"
      },
      "execution_count": null,
      "outputs": [
        {
          "output_type": "stream",
          "name": "stdout",
          "text": [
            "The remainder after dividing 5 and 3 is 2\n"
          ]
        }
      ]
    },
    {
      "cell_type": "code",
      "source": [
        "print(\"The quotient of\",e,\"and\",f,\"is\",e//f, \"remainder\",e%f)"
      ],
      "metadata": {
        "colab": {
          "base_uri": "https://localhost:8080/"
        },
        "id": "BoP-yaC-D3E1",
        "outputId": "0b02b46b-0e6e-4109-cd5a-ddac61507a64"
      },
      "execution_count": null,
      "outputs": [
        {
          "output_type": "stream",
          "name": "stdout",
          "text": [
            "The quotient of 5 and 3 is 1 remainder 2\n"
          ]
        }
      ]
    },
    {
      "cell_type": "markdown",
      "source": [
        "***Area of a triangle***"
      ],
      "metadata": {
        "id": "ZhPujilrxjcZ"
      }
    },
    {
      "cell_type": "code",
      "source": [
        "base=4\n",
        "height=2"
      ],
      "metadata": {
        "id": "d7f5BZs9xqHH"
      },
      "execution_count": null,
      "outputs": []
    },
    {
      "cell_type": "code",
      "source": [
        "1/2*base*height"
      ],
      "metadata": {
        "colab": {
          "base_uri": "https://localhost:8080/"
        },
        "id": "y1DB5RUJx_On",
        "outputId": "797ed545-0f0a-4940-9b7a-19776210200c"
      },
      "execution_count": null,
      "outputs": [
        {
          "output_type": "execute_result",
          "data": {
            "text/plain": [
              "4.0"
            ]
          },
          "metadata": {},
          "execution_count": 6
        }
      ]
    },
    {
      "cell_type": "code",
      "source": [
        "print('The area of a triangle with base 4 and height 2 is',1/2*base*height)"
      ],
      "metadata": {
        "colab": {
          "base_uri": "https://localhost:8080/"
        },
        "id": "tPn8DEDoytdd",
        "outputId": "6723dc08-1710-4278-d41a-d283bbd573fa"
      },
      "execution_count": null,
      "outputs": [
        {
          "output_type": "stream",
          "name": "stdout",
          "text": [
            "The area of a triangle with base 4 and height 2 is 4.0\n"
          ]
        }
      ]
    },
    {
      "cell_type": "markdown",
      "source": [
        "***Simple interest***"
      ],
      "metadata": {
        "id": "stZhUVzPza67"
      }
    },
    {
      "cell_type": "code",
      "source": [
        "rate=.1\n",
        "principal=50000 # in dollars\n",
        "time=2 # in years"
      ],
      "metadata": {
        "id": "uswXjtX8zjdb"
      },
      "execution_count": null,
      "outputs": []
    },
    {
      "cell_type": "code",
      "source": [
        "interest=principal*rate *time"
      ],
      "metadata": {
        "id": "aT6K7Jd60Pxh"
      },
      "execution_count": null,
      "outputs": []
    },
    {
      "cell_type": "code",
      "source": [
        "interest"
      ],
      "metadata": {
        "colab": {
          "base_uri": "https://localhost:8080/"
        },
        "id": "mJ-MNVGm1bWG",
        "outputId": "597dea66-4549-4dda-e605-a326e7a904c9"
      },
      "execution_count": null,
      "outputs": [
        {
          "output_type": "execute_result",
          "data": {
            "text/plain": [
              "10000.0"
            ]
          },
          "metadata": {},
          "execution_count": 12
        }
      ]
    },
    {
      "cell_type": "code",
      "source": [
        "print('The simple interest for an amount of 50000 dollars at a rate of 10% over a period of 2 years is',interest )"
      ],
      "metadata": {
        "colab": {
          "base_uri": "https://localhost:8080/"
        },
        "id": "qDK9GqDT0tH5",
        "outputId": "bf6d67b0-e959-4d84-e7a1-e14bbba4cab7"
      },
      "execution_count": null,
      "outputs": [
        {
          "output_type": "stream",
          "name": "stdout",
          "text": [
            "The simple interest for an amount of 50000 dollars at a rate of 10% over a period of 2 years is 10000.0\n"
          ]
        }
      ]
    },
    {
      "cell_type": "markdown",
      "source": [
        "***Temperature conversion(celsius to fahrenheit)***"
      ],
      "metadata": {
        "id": "e6m2LcZF1uAl"
      }
    },
    {
      "cell_type": "code",
      "source": [
        "celsius=23"
      ],
      "metadata": {
        "id": "czN2DezQ2lNj"
      },
      "execution_count": null,
      "outputs": []
    },
    {
      "cell_type": "code",
      "source": [
        "temp=(celsius *9/5) +32"
      ],
      "metadata": {
        "id": "efmi000K2Bq8"
      },
      "execution_count": null,
      "outputs": []
    },
    {
      "cell_type": "code",
      "source": [
        "print('The conversion of celsius 23 to fahrenheit',temp)"
      ],
      "metadata": {
        "colab": {
          "base_uri": "https://localhost:8080/"
        },
        "id": "KNoCxOqZ2sqj",
        "outputId": "ab769c15-e799-42fe-c3e7-928e639d9959"
      },
      "execution_count": null,
      "outputs": [
        {
          "output_type": "stream",
          "name": "stdout",
          "text": [
            "The conversion of celsius 23 to fahrenheit 73.4\n"
          ]
        }
      ]
    },
    {
      "cell_type": "markdown",
      "source": [
        "***Average of numbers***"
      ],
      "metadata": {
        "id": "BMeiJRpI3jC5"
      }
    },
    {
      "cell_type": "code",
      "source": [
        "num1=3\n",
        "num2=6\n",
        "num3=9"
      ],
      "metadata": {
        "id": "PaRvqICi3pQI"
      },
      "execution_count": null,
      "outputs": []
    },
    {
      "cell_type": "code",
      "source": [
        "average=(num1 +num2+num3)/3\n",
        "average"
      ],
      "metadata": {
        "colab": {
          "base_uri": "https://localhost:8080/"
        },
        "id": "NE8fGI8V4Kx2",
        "outputId": "077df817-c67c-4d22-e627-51e075ac27b2"
      },
      "execution_count": null,
      "outputs": [
        {
          "output_type": "execute_result",
          "data": {
            "text/plain": [
              "6.0"
            ]
          },
          "metadata": {},
          "execution_count": 24
        }
      ]
    },
    {
      "cell_type": "code",
      "source": [
        "(num1 +num2+num3)/3"
      ],
      "metadata": {
        "colab": {
          "base_uri": "https://localhost:8080/"
        },
        "id": "LcVG51RT4pOF",
        "outputId": "307b2acd-3ee6-4a7a-86e4-5bc578896cc2"
      },
      "execution_count": null,
      "outputs": [
        {
          "output_type": "execute_result",
          "data": {
            "text/plain": [
              "6.0"
            ]
          },
          "metadata": {},
          "execution_count": 22
        }
      ]
    },
    {
      "cell_type": "code",
      "source": [
        "print('The average of num1 and num2 and num3 is',average)"
      ],
      "metadata": {
        "colab": {
          "base_uri": "https://localhost:8080/"
        },
        "id": "PurPG9sx4m2O",
        "outputId": "655aa0b0-1786-4eb9-e024-d71c94fd3f12"
      },
      "execution_count": null,
      "outputs": [
        {
          "output_type": "stream",
          "name": "stdout",
          "text": [
            "The average of num1 and num2 and num3 is 6.0\n"
          ]
        }
      ]
    },
    {
      "cell_type": "markdown",
      "source": [
        "***Swaping numbers***"
      ],
      "metadata": {
        "id": "GegO6pi05Ltk"
      }
    },
    {
      "cell_type": "code",
      "source": [
        "a=4\n",
        "b=6"
      ],
      "metadata": {
        "id": "GvDGZkNd5Se0"
      },
      "execution_count": null,
      "outputs": []
    },
    {
      "cell_type": "code",
      "source": [
        "a,b=b,a"
      ],
      "metadata": {
        "id": "dL7vN2eP5YS0"
      },
      "execution_count": null,
      "outputs": []
    },
    {
      "cell_type": "code",
      "source": [
        "a"
      ],
      "metadata": {
        "colab": {
          "base_uri": "https://localhost:8080/"
        },
        "id": "kzLH-mL85fLr",
        "outputId": "76cd525d-5d20-40fd-a385-d64afef35804"
      },
      "execution_count": null,
      "outputs": [
        {
          "output_type": "execute_result",
          "data": {
            "text/plain": [
              "6"
            ]
          },
          "metadata": {},
          "execution_count": 28
        }
      ]
    },
    {
      "cell_type": "markdown",
      "source": [
        "Write a program that returns the largest number from a pool of 3"
      ],
      "metadata": {
        "id": "CFcparoU6A9y"
      }
    },
    {
      "cell_type": "code",
      "source": [
        "# Step 1: Input three numbers\n",
        "a = float(input(\"Enter first number: \"))\n",
        "b = float(input(\"Enter second number: \"))\n",
        "c = float(input(\"Enter third number: \"))\n",
        "\n",
        "# Step 2: Compare the numbers\n",
        "if a >= b and a >= c:\n",
        "    print(\"The largest number is\", a)\n",
        "elif b >= a and b >= c:\n",
        "    print(\"The largest number is\", b)\n",
        "else:\n",
        "    print(\"The largest number is\", c)"
      ],
      "metadata": {
        "colab": {
          "base_uri": "https://localhost:8080/"
        },
        "id": "BpwVj8PKzFPW",
        "outputId": "5affe0a5-b05b-4e7a-9ed3-d40fac0a35c3"
      },
      "execution_count": null,
      "outputs": [
        {
          "output_type": "stream",
          "name": "stdout",
          "text": [
            "Enter first number: 5\n",
            "Enter second number: 7\n",
            "Enter third number: 2\n",
            "The largest number is 7.0\n"
          ]
        }
      ]
    },
    {
      "cell_type": "markdown",
      "source": [
        "Session 2"
      ],
      "metadata": {
        "id": "mIx-P7-K8Lnk"
      }
    },
    {
      "cell_type": "markdown",
      "source": [
        "**elif else conditions**"
      ],
      "metadata": {
        "id": "Ua-PPxRv8Oxc"
      }
    },
    {
      "cell_type": "code",
      "source": [
        "score=70"
      ],
      "metadata": {
        "id": "TdhVtSBc8j4E"
      },
      "execution_count": null,
      "outputs": []
    },
    {
      "cell_type": "code",
      "source": [
        "if score >=90:\n",
        "   print('A')\n",
        "elif score >=80:\n",
        "   print('B')\n",
        "elif score >=70:\n",
        "   print('C')\n",
        "elif score >=60:\n",
        "   print('D')\n",
        "else:\n",
        "   print('fail')"
      ],
      "metadata": {
        "colab": {
          "base_uri": "https://localhost:8080/"
        },
        "id": "YhtLKhSV8r_r",
        "outputId": "fc1236e1-78c9-47df-b2bd-3bace74e60ca"
      },
      "execution_count": null,
      "outputs": [
        {
          "output_type": "stream",
          "name": "stdout",
          "text": [
            "C\n"
          ]
        }
      ]
    },
    {
      "cell_type": "code",
      "source": [
        "score=90"
      ],
      "metadata": {
        "id": "r64j1eju_wAk"
      },
      "execution_count": null,
      "outputs": []
    },
    {
      "cell_type": "code",
      "source": [
        "if score >=90:\n",
        "   print('A')\n",
        "elif score >=80:\n",
        "   print('B')\n",
        "elif score >=70:\n",
        "   print('C')\n",
        "elif score >=60:\n",
        "   print('D')\n",
        "else:\n",
        "   print('Fail')"
      ],
      "metadata": {
        "colab": {
          "base_uri": "https://localhost:8080/"
        },
        "id": "zaXvJkAM_3rL",
        "outputId": "47180819-e024-4ded-82d8-f4be2d35b294"
      },
      "execution_count": null,
      "outputs": [
        {
          "output_type": "stream",
          "name": "stdout",
          "text": [
            "A\n"
          ]
        }
      ]
    },
    {
      "cell_type": "markdown",
      "source": [
        "Loops:for and while"
      ],
      "metadata": {
        "id": "mA_VI-ysCmj1"
      }
    },
    {
      "cell_type": "code",
      "source": [
        "for i in range(1,8):\n",
        "  print('Hello',i)"
      ],
      "metadata": {
        "colab": {
          "base_uri": "https://localhost:8080/"
        },
        "id": "u34XFbJECwn8",
        "outputId": "3a0469e3-8da8-4674-b14e-b77643dc6c18"
      },
      "execution_count": null,
      "outputs": [
        {
          "output_type": "stream",
          "name": "stdout",
          "text": [
            "Hello 1\n",
            "Hello 2\n",
            "Hello 3\n",
            "Hello 4\n",
            "Hello 5\n",
            "Hello 6\n",
            "Hello 7\n"
          ]
        }
      ]
    },
    {
      "cell_type": "markdown",
      "source": [
        "Functions"
      ],
      "metadata": {
        "id": "cUMdynAFD3D5"
      }
    },
    {
      "cell_type": "markdown",
      "source": [
        "greetings by definition"
      ],
      "metadata": {
        "id": "QPH4bmWeD6CZ"
      }
    },
    {
      "cell_type": "code",
      "source": [
        "def greet(name): #defining the greet function\n",
        "  return f'Hello, {name}!'# calling ang applying the greet function\n",
        "print(greet('Alice')) #display the results"
      ],
      "metadata": {
        "colab": {
          "base_uri": "https://localhost:8080/"
        },
        "id": "oxGO1aHDEAPi",
        "outputId": "3b4e91d1-5fdc-43bb-8344-a232161e3f90"
      },
      "execution_count": null,
      "outputs": [
        {
          "output_type": "stream",
          "name": "stdout",
          "text": [
            "Hello, Alice!\n"
          ]
        }
      ]
    },
    {
      "cell_type": "code",
      "source": [
        "def greet(world):\n",
        "  return f'Hello, {world}!'\n",
        "print(greet('world'))"
      ],
      "metadata": {
        "colab": {
          "base_uri": "https://localhost:8080/"
        },
        "id": "W_d7i4Hlks4m",
        "outputId": "8db67bda-6cd5-473b-f1d0-eb27ca0aef7a"
      },
      "execution_count": null,
      "outputs": [
        {
          "output_type": "stream",
          "name": "stdout",
          "text": [
            "Hello, world!\n"
          ]
        }
      ]
    },
    {
      "cell_type": "code",
      "source": [
        "fruits=['apple','banana','mango']#to list the items\n",
        "fruits.append('kiwi') #to add an item to the list\n",
        "fruits.sort() #to sort the items in an alphabetical order"
      ],
      "metadata": {
        "id": "obEHhEtLF2DM"
      },
      "execution_count": null,
      "outputs": []
    },
    {
      "cell_type": "code",
      "source": [
        "fruits"
      ],
      "metadata": {
        "colab": {
          "base_uri": "https://localhost:8080/"
        },
        "id": "_z1tCJs8Geg6",
        "outputId": "70861fa6-6c5a-4098-bc43-d59512124601"
      },
      "execution_count": null,
      "outputs": [
        {
          "output_type": "execute_result",
          "data": {
            "text/plain": [
              "['apple', 'banana', 'kiwi', 'mango']"
            ]
          },
          "metadata": {},
          "execution_count": 70
        }
      ]
    },
    {
      "cell_type": "markdown",
      "source": [
        "***LARGEST POOL OF 3***"
      ],
      "metadata": {
        "id": "DKIWJQBlrvJI"
      }
    },
    {
      "cell_type": "code",
      "source": [
        "a=4\n",
        "b=7\n",
        "c=1"
      ],
      "metadata": {
        "id": "Vh7s8H-BeAqR"
      },
      "execution_count": null,
      "outputs": []
    },
    {
      "cell_type": "code",
      "source": [
        "if a>=b and a>=c:\n",
        "   largest=('a')\n",
        "if b>=a and b>=c:\n",
        "  largest=('b')\n",
        "else:\n",
        " largest=('c')"
      ],
      "metadata": {
        "id": "cgNQ-1zgjaea"
      },
      "execution_count": null,
      "outputs": []
    },
    {
      "cell_type": "code",
      "source": [
        "largest"
      ],
      "metadata": {
        "colab": {
          "base_uri": "https://localhost:8080/",
          "height": 35
        },
        "id": "gmQDYj8coqNx",
        "outputId": "0cf2eb62-f478-4c8c-a370-6413accd23fb"
      },
      "execution_count": null,
      "outputs": [
        {
          "output_type": "execute_result",
          "data": {
            "text/plain": [
              "'b'"
            ],
            "application/vnd.google.colaboratory.intrinsic+json": {
              "type": "string"
            }
          },
          "metadata": {},
          "execution_count": 11
        }
      ]
    },
    {
      "cell_type": "markdown",
      "source": [
        "***elif if condition***"
      ],
      "metadata": {
        "id": "De68jbx-6McY"
      }
    },
    {
      "cell_type": "code",
      "source": [
        "purchase =200 #in ksh"
      ],
      "metadata": {
        "id": "M9uyMDaF6vSj"
      },
      "execution_count": null,
      "outputs": []
    },
    {
      "cell_type": "code",
      "source": [
        "if purchase>=500:\n",
        "  print(\"30% discount\")\n",
        "  discount=('30%')\n",
        "else:\n",
        "  print('0% discount')"
      ],
      "metadata": {
        "id": "yxXV1eYp6apB",
        "colab": {
          "base_uri": "https://localhost:8080/"
        },
        "outputId": "c7a940de-0bfb-4f6f-8f48-bd6402da0c05"
      },
      "execution_count": null,
      "outputs": [
        {
          "output_type": "stream",
          "name": "stdout",
          "text": [
            "0% discount\n"
          ]
        }
      ]
    },
    {
      "cell_type": "code",
      "source": [
        "discount=purchase*discount"
      ],
      "metadata": {
        "id": "Phon2mVMDBhn"
      },
      "execution_count": null,
      "outputs": []
    },
    {
      "cell_type": "code",
      "source": [
        "weather=(\"g\")"
      ],
      "metadata": {
        "id": "XXlXopuPFvNn"
      },
      "execution_count": null,
      "outputs": []
    },
    {
      "cell_type": "code",
      "source": [
        "if weather is (\"sunny\"):\n",
        "   print(\"Its really sunny today\")\n",
        "else:\n",
        "  print(\"Its not sunny today\")\n",
        "\n",
        "# You are supposed to declare/define weather"
      ],
      "metadata": {
        "colab": {
          "base_uri": "https://localhost:8080/"
        },
        "id": "JQfF4iM3GBDg",
        "outputId": "5faac5ef-891b-44bb-8510-6672291e52f7"
      },
      "execution_count": null,
      "outputs": [
        {
          "output_type": "stream",
          "name": "stdout",
          "text": [
            "Its not sunny today\n"
          ]
        },
        {
          "output_type": "stream",
          "name": "stderr",
          "text": [
            "<>:1: SyntaxWarning: \"is\" with a literal. Did you mean \"==\"?\n",
            "<>:1: SyntaxWarning: \"is\" with a literal. Did you mean \"==\"?\n",
            "<ipython-input-35-d5f4e703b622>:1: SyntaxWarning: \"is\" with a literal. Did you mean \"==\"?\n",
            "  if weather is (\"sunny\"):\n"
          ]
        }
      ]
    },
    {
      "cell_type": "code",
      "source": [
        "age=13"
      ],
      "metadata": {
        "id": "RfrCPicyJrah"
      },
      "execution_count": null,
      "outputs": []
    },
    {
      "cell_type": "code",
      "source": [
        "if age>=18:\n",
        "  print(\"An adult\")\n",
        "else:\n",
        "  print(\"Not an adult\")"
      ],
      "metadata": {
        "colab": {
          "base_uri": "https://localhost:8080/"
        },
        "id": "DTu-QEugKnMQ",
        "outputId": "27345306-0b21-4eb6-c0f0-5c035b5f48bc"
      },
      "execution_count": null,
      "outputs": [
        {
          "output_type": "stream",
          "name": "stdout",
          "text": [
            "Not an adult\n"
          ]
        }
      ]
    },
    {
      "cell_type": "markdown",
      "source": [
        "***session three***"
      ],
      "metadata": {
        "id": "EITKnFeHvn7E"
      }
    },
    {
      "cell_type": "markdown",
      "source": [
        "Creating comprehensive listn (list comprehension)"
      ],
      "metadata": {
        "id": "b7SGlO4zwEmj"
      }
    },
    {
      "cell_type": "code",
      "source": [
        "# Let i,j be a sub space of intergers where both ranges from 1 to 4,\n",
        "#create a table of multiplyers i by j\n",
        "squares=[]\n",
        "for i in range(1,4):\n",
        "   for j in range(1,4):\n",
        "    print(f\"{i}x{j}={i*j}\")"
      ],
      "metadata": {
        "colab": {
          "base_uri": "https://localhost:8080/"
        },
        "id": "BR5rJn7NwUjr",
        "outputId": "01380ff3-e1fa-437a-dad4-ed7c6c260517"
      },
      "execution_count": null,
      "outputs": [
        {
          "output_type": "stream",
          "name": "stdout",
          "text": [
            "1x1=1\n",
            "1x2=2\n",
            "1x3=3\n",
            "2x1=2\n",
            "2x2=4\n",
            "2x3=6\n",
            "3x1=3\n",
            "3x2=6\n",
            "3x3=9\n"
          ]
        }
      ]
    },
    {
      "cell_type": "code",
      "source": [
        "#traditional way\n",
        "squares=[]\n",
        "for i in range(1,6):\n",
        "  squares.append(i*i)\n",
        "  print(squares)"
      ],
      "metadata": {
        "colab": {
          "base_uri": "https://localhost:8080/"
        },
        "id": "vKCK_V1IyOjA",
        "outputId": "6348cd2f-6c65-49b2-d2c3-de791602eb2e"
      },
      "execution_count": null,
      "outputs": [
        {
          "output_type": "stream",
          "name": "stdout",
          "text": [
            "[1]\n",
            "[1, 4]\n",
            "[1, 4, 9]\n",
            "[1, 4, 9, 16]\n",
            "[1, 4, 9, 16, 25]\n"
          ]
        }
      ]
    },
    {
      "cell_type": "markdown",
      "source": [
        "**Assignment**\n",
        "\n",
        "Multiplication table for i,j where i and j is a set of numbers ranging from 1 to 15"
      ],
      "metadata": {
        "id": "nhfAzR4tzy7G"
      }
    },
    {
      "cell_type": "code",
      "source": [
        "squares=[]\n",
        "for i in range(1,15):\n",
        "  for j in range(1,15):\n",
        "    print(f\"{i}x{j}={i*j}\")"
      ],
      "metadata": {
        "colab": {
          "base_uri": "https://localhost:8080/"
        },
        "id": "3U5T9a6VT8uN",
        "outputId": "7d605a76-9d9f-417c-9abd-932fb0d5639b"
      },
      "execution_count": null,
      "outputs": [
        {
          "output_type": "stream",
          "name": "stdout",
          "text": [
            "1x1=1\n",
            "1x2=2\n",
            "1x3=3\n",
            "1x4=4\n",
            "1x5=5\n",
            "1x6=6\n",
            "1x7=7\n",
            "1x8=8\n",
            "1x9=9\n",
            "1x10=10\n",
            "1x11=11\n",
            "1x12=12\n",
            "1x13=13\n",
            "1x14=14\n",
            "2x1=2\n",
            "2x2=4\n",
            "2x3=6\n",
            "2x4=8\n",
            "2x5=10\n",
            "2x6=12\n",
            "2x7=14\n",
            "2x8=16\n",
            "2x9=18\n",
            "2x10=20\n",
            "2x11=22\n",
            "2x12=24\n",
            "2x13=26\n",
            "2x14=28\n",
            "3x1=3\n",
            "3x2=6\n",
            "3x3=9\n",
            "3x4=12\n",
            "3x5=15\n",
            "3x6=18\n",
            "3x7=21\n",
            "3x8=24\n",
            "3x9=27\n",
            "3x10=30\n",
            "3x11=33\n",
            "3x12=36\n",
            "3x13=39\n",
            "3x14=42\n",
            "4x1=4\n",
            "4x2=8\n",
            "4x3=12\n",
            "4x4=16\n",
            "4x5=20\n",
            "4x6=24\n",
            "4x7=28\n",
            "4x8=32\n",
            "4x9=36\n",
            "4x10=40\n",
            "4x11=44\n",
            "4x12=48\n",
            "4x13=52\n",
            "4x14=56\n",
            "5x1=5\n",
            "5x2=10\n",
            "5x3=15\n",
            "5x4=20\n",
            "5x5=25\n",
            "5x6=30\n",
            "5x7=35\n",
            "5x8=40\n",
            "5x9=45\n",
            "5x10=50\n",
            "5x11=55\n",
            "5x12=60\n",
            "5x13=65\n",
            "5x14=70\n",
            "6x1=6\n",
            "6x2=12\n",
            "6x3=18\n",
            "6x4=24\n",
            "6x5=30\n",
            "6x6=36\n",
            "6x7=42\n",
            "6x8=48\n",
            "6x9=54\n",
            "6x10=60\n",
            "6x11=66\n",
            "6x12=72\n",
            "6x13=78\n",
            "6x14=84\n",
            "7x1=7\n",
            "7x2=14\n",
            "7x3=21\n",
            "7x4=28\n",
            "7x5=35\n",
            "7x6=42\n",
            "7x7=49\n",
            "7x8=56\n",
            "7x9=63\n",
            "7x10=70\n",
            "7x11=77\n",
            "7x12=84\n",
            "7x13=91\n",
            "7x14=98\n",
            "8x1=8\n",
            "8x2=16\n",
            "8x3=24\n",
            "8x4=32\n",
            "8x5=40\n",
            "8x6=48\n",
            "8x7=56\n",
            "8x8=64\n",
            "8x9=72\n",
            "8x10=80\n",
            "8x11=88\n",
            "8x12=96\n",
            "8x13=104\n",
            "8x14=112\n",
            "9x1=9\n",
            "9x2=18\n",
            "9x3=27\n",
            "9x4=36\n",
            "9x5=45\n",
            "9x6=54\n",
            "9x7=63\n",
            "9x8=72\n",
            "9x9=81\n",
            "9x10=90\n",
            "9x11=99\n",
            "9x12=108\n",
            "9x13=117\n",
            "9x14=126\n",
            "10x1=10\n",
            "10x2=20\n",
            "10x3=30\n",
            "10x4=40\n",
            "10x5=50\n",
            "10x6=60\n",
            "10x7=70\n",
            "10x8=80\n",
            "10x9=90\n",
            "10x10=100\n",
            "10x11=110\n",
            "10x12=120\n",
            "10x13=130\n",
            "10x14=140\n",
            "11x1=11\n",
            "11x2=22\n",
            "11x3=33\n",
            "11x4=44\n",
            "11x5=55\n",
            "11x6=66\n",
            "11x7=77\n",
            "11x8=88\n",
            "11x9=99\n",
            "11x10=110\n",
            "11x11=121\n",
            "11x12=132\n",
            "11x13=143\n",
            "11x14=154\n",
            "12x1=12\n",
            "12x2=24\n",
            "12x3=36\n",
            "12x4=48\n",
            "12x5=60\n",
            "12x6=72\n",
            "12x7=84\n",
            "12x8=96\n",
            "12x9=108\n",
            "12x10=120\n",
            "12x11=132\n",
            "12x12=144\n",
            "12x13=156\n",
            "12x14=168\n",
            "13x1=13\n",
            "13x2=26\n",
            "13x3=39\n",
            "13x4=52\n",
            "13x5=65\n",
            "13x6=78\n",
            "13x7=91\n",
            "13x8=104\n",
            "13x9=117\n",
            "13x10=130\n",
            "13x11=143\n",
            "13x12=156\n",
            "13x13=169\n",
            "13x14=182\n",
            "14x1=14\n",
            "14x2=28\n",
            "14x3=42\n",
            "14x4=56\n",
            "14x5=70\n",
            "14x6=84\n",
            "14x7=98\n",
            "14x8=112\n",
            "14x9=126\n",
            "14x10=140\n",
            "14x11=154\n",
            "14x12=168\n",
            "14x13=182\n",
            "14x14=196\n"
          ]
        }
      ]
    },
    {
      "cell_type": "markdown",
      "source": [
        "**Basic dictionary **\n",
        "\n",
        "Used to pull information from a data base that satisfies a given condition\n"
      ],
      "metadata": {
        "id": "D3fpPl0J0V4F"
      }
    },
    {
      "cell_type": "markdown",
      "source": [
        "FUNCTIONS WITH CONDITIONS"
      ],
      "metadata": {
        "id": "3aEWPhdA4R1g"
      }
    },
    {
      "cell_type": "code",
      "source": [
        "#a program that checks the eligibility of a voter\n",
        "def is_eligible(age):\n",
        "  if age>=18:\n",
        "    return \"Eligible to vote\"\n",
        "  else:\n",
        "    return \"Not eligible to vote\"\n",
        "print(is_eligible(14))"
      ],
      "metadata": {
        "colab": {
          "base_uri": "https://localhost:8080/"
        },
        "id": "MrJjk8Xo1S7D",
        "outputId": "d3f15d7f-460d-4e08-d812-d08491d0c647"
      },
      "execution_count": null,
      "outputs": [
        {
          "output_type": "stream",
          "name": "stdout",
          "text": [
            "Not eligible to vote\n"
          ]
        }
      ]
    },
    {
      "cell_type": "markdown",
      "source": [
        "Assignment\n",
        "\n",
        "In another field\n"
      ],
      "metadata": {
        "id": "WUv5DbuD4ZHg"
      }
    },
    {
      "cell_type": "code",
      "source": [
        "def risk_category(age,cholesterol,smoker):\n",
        "  if age>60 and cholesterol>240 and smoker:\n",
        "    return \"High risk\"\n",
        "  elif age>45 and cholesterol>200:\n",
        "    return \"Moderate risk\"\n",
        "  else:\n",
        "    return \"Low risk\" # You need to add a print function after every program to check if it works as desired. Refer to the code below."
      ],
      "metadata": {
        "id": "cqfvD030W-1G"
      },
      "execution_count": null,
      "outputs": []
    },
    {
      "cell_type": "code",
      "source": [
        "print(risk_category(30, 250, False))"
      ],
      "metadata": {
        "colab": {
          "base_uri": "https://localhost:8080/"
        },
        "id": "56YujNbJw9wL",
        "outputId": "70213d82-a269-4e50-c03d-374c4e899371"
      },
      "execution_count": null,
      "outputs": [
        {
          "output_type": "stream",
          "name": "stdout",
          "text": [
            "Low risk\n"
          ]
        }
      ]
    },
    {
      "cell_type": "markdown",
      "source": [
        "**Basic dictionary operations**"
      ],
      "metadata": {
        "id": "ntWJgCIc5DKX"
      }
    },
    {
      "cell_type": "code",
      "source": [
        "student = {\"name\": \"Alice\", \"age\": 20, \"grade\": \"B\"} # Supplying the demographic information of a student\n",
        "\n",
        "print(student[\"name\"])# Telling the python to print the name of the student\n",
        "student[\"grade\"] = \"A\"# Indicating the grade a specific student attained\n",
        "print(student)# Printing out every information about the student\n",
        "\n",
        "# Add new key\n",
        "student[\"school\"] = \"St. Mary\" # Adding  anew identifier to the list of an individual"
      ],
      "metadata": {
        "colab": {
          "base_uri": "https://localhost:8080/"
        },
        "id": "_BysE6vh5NEn",
        "outputId": "21a8dd93-1386-4a87-8f8d-8e6fe33a72ec"
      },
      "execution_count": null,
      "outputs": [
        {
          "output_type": "stream",
          "name": "stdout",
          "text": [
            "Alice\n",
            "{'name': 'Alice', 'age': 20, 'grade': 'A'}\n"
          ]
        }
      ]
    },
    {
      "cell_type": "code",
      "source": [
        "for key, value in student.items(): # Used to display independent details/information of an individual in an independent format.\n",
        "  print(key,\"is\",value)"
      ],
      "metadata": {
        "colab": {
          "base_uri": "https://localhost:8080/"
        },
        "id": "DD8wK2Sw7XGG",
        "outputId": "265a95a8-0275-48c4-9609-99992091e896"
      },
      "execution_count": null,
      "outputs": [
        {
          "output_type": "stream",
          "name": "stdout",
          "text": [
            "name is Alice\n",
            "age is 20\n",
            "grade is A\n",
            "school is St. Mary\n"
          ]
        }
      ]
    },
    {
      "cell_type": "markdown",
      "source": [
        "Assignment\n",
        "\n",
        "basic dictionary operations in another field"
      ],
      "metadata": {
        "id": "FQG_HqQ77Bsm"
      }
    },
    {
      "cell_type": "code",
      "source": [
        "patient={\"name\":\"John\",\"age\":32,\"medication\":\"injection\"}\n",
        "\n",
        "print(patient[\"name\"])\n",
        "patient[\"medication\"]=\"injectons\"\n",
        "print(patient)"
      ],
      "metadata": {
        "colab": {
          "base_uri": "https://localhost:8080/"
        },
        "id": "5yqjhv7S2b2X",
        "outputId": "03ff5b71-9081-4096-ed87-387eab3250f7"
      },
      "execution_count": null,
      "outputs": [
        {
          "output_type": "stream",
          "name": "stdout",
          "text": [
            "John\n",
            "{'name': 'John', 'age': 32, 'medication': 'injectons'}\n"
          ]
        }
      ]
    },
    {
      "cell_type": "markdown",
      "source": [
        "Read on creating a menu program using loop+input"
      ],
      "metadata": {
        "id": "iObRd-2y8bM8"
      }
    },
    {
      "cell_type": "markdown",
      "source": [
        "***Password generator***"
      ],
      "metadata": {
        "id": "5iJE3UN23OrE"
      }
    },
    {
      "cell_type": "code",
      "source": [
        "import string\n",
        "import random\n",
        "import numpy as np\n",
        "import torch\n",
        "\n",
        "\n",
        "def generate_password(length=8,use_upper=True,use_lower=True,use_symbols=True,use_digits=True):\n",
        "  character=''\n",
        "  if use_upper:\n",
        "    character+=string.ascii_uppercase\n",
        "  if use_lower:\n",
        "    character+=string.ascii_lowercase\n",
        "  if use_symbols:\n",
        "    character+=string.punctuation\n",
        "  if use_digits:\n",
        "    character+=string.digits\n",
        "\n",
        "  if not character:\n",
        "     raise ValueError(\"At least one character set must be selected!\")\n",
        "\n",
        "  #Ensure password contains at least one of each selected type\n",
        "  password=[]\n",
        "  if use_upper:\n",
        "    password.append(random.choice(string.ascii_uppercase))\n",
        "  if use_lower:\n",
        "    password.append(random.choice(string.ascii_lowercase))\n",
        "  if use_symbols:\n",
        "    password.append(random.choice(string.punctuation))\n",
        "  if use_digits:\n",
        "    password.append(random.choice(string.digits))\n",
        "\n",
        "  #Fill the rest of the password length\n",
        "  password+=random.choices(character,k=length - len(password))\n",
        "  random.shuffle(password)\n",
        "\n",
        "  return ''.join(password)"
      ],
      "metadata": {
        "collapsed": true,
        "id": "F6EOpnBG3WiU"
      },
      "execution_count": null,
      "outputs": []
    },
    {
      "cell_type": "code",
      "source": [
        "random.seed(32) #is used for reproducibility\n",
        "print(\"generated password:\",generate_password(length=8))"
      ],
      "metadata": {
        "colab": {
          "base_uri": "https://localhost:8080/"
        },
        "id": "lW25YNUXFsM4",
        "outputId": "4acead4b-308c-440f-836e-099a2a603fc8"
      },
      "execution_count": null,
      "outputs": [
        {
          "output_type": "stream",
          "name": "stdout",
          "text": [
            "generated password: DCg4C*.W\n"
          ]
        }
      ]
    },
    {
      "cell_type": "markdown",
      "source": [
        "***Making a calculator***"
      ],
      "metadata": {
        "id": "Y0haDP3vH01p"
      }
    },
    {
      "cell_type": "code",
      "source": [
        "def add(x, y):\n",
        "    return x + y\n",
        "\n",
        "def subtract(x, y):\n",
        "    return x - y\n",
        "\n",
        "def multiply(x, y):\n",
        "    return x * y\n",
        "\n",
        "def divide(x, y):\n",
        "    if y == 0:\n",
        "        return \"Error! Cannot divide by zero!\"\n",
        "    return x / y\n",
        "\n",
        "def calculator():\n",
        "    print(\"Simple Calculator\")\n",
        "    print(\"Select operation:\")\n",
        "    print(\"1. Add\")\n",
        "    print(\"2. Subtract\")\n",
        "    print(\"3. Multiply\")\n",
        "    print(\"4. Divide\")\n",
        "\n",
        "    choice = input(\"Enter choice (1/2/3/4): \")\n",
        "\n",
        "    if choice not in ['1', '2', '3', '4']:\n",
        "        print(\"Invalid input.\")\n",
        "        return\n",
        "\n",
        "    try:\n",
        "        num1 = float(input(\"Enter first number: \"))\n",
        "        num2 = float(input(\"Enter second number: \"))\n",
        "    except ValueError:\n",
        "        print(\"Invalid number input.\")\n",
        "        return\n",
        "\n",
        "    if choice == '1':\n",
        "        print(f\"Result: {add(num1, num2)}\")\n",
        "    elif choice == '2':\n",
        "        print( f\"Result: {subtract(num1, num2)}\")\n",
        "\n",
        "\n",
        "    elif choice == '3':\n",
        "        print(f\"Result: {multiply(num1, num2)}\")\n",
        "    elif choice == '4':\n",
        "        print(f\"Result: {divide(num1, num2)}\")\n",
        "\n",
        "if __name__ == \"__main__\":\n",
        "    calculator()\n"
      ],
      "metadata": {
        "colab": {
          "base_uri": "https://localhost:8080/"
        },
        "id": "NNt602kJdUXm",
        "outputId": "b42dd86e-6ab3-482c-80c6-8d1a841cb9be"
      },
      "execution_count": null,
      "outputs": [
        {
          "output_type": "stream",
          "name": "stdout",
          "text": [
            "Simple Calculator\n",
            "Select operation:\n",
            "1. Add\n",
            "2. Subtract\n",
            "3. Multiply\n",
            "4. Divide\n",
            "Enter choice (1/2/3/4): 4\n",
            "Enter first number: 4\n",
            "Enter second number: 7\n",
            "Result: 0.5714285714285714\n"
          ]
        }
      ]
    },
    {
      "cell_type": "code",
      "source": [
        "import math\n",
        "\n",
        "def trig_calculator():\n",
        "  print(\"Trigonometry calculator\")\n",
        "  print(\"Available functions: sin, cos , tan , cosec , sec ,cot\")\n",
        "\n",
        "  angle_deg = float(input(\"Enter the angles in degrees:\"))\n",
        "  function = input(\"Enter the function name(e.g., sin, cos):\").strip().lower()\n",
        "\n",
        "  angle_rad = math.radians(angle_deg)\n",
        "\n",
        "  try:\n",
        "    if function == \"sin\":\n",
        "      result = math.sin(angle_rad)\n",
        "    elif function == \"cos\":\n",
        "      result = math.cos(angle_rad)\n",
        "    elif function == \"tan\":\n",
        "      result = math.tan(angle_rad)\n",
        "    elif function == \"cosec\":\n",
        "      # cosec(x) = 1/sin(x)\n",
        "      result = 1 / math.sin(angle_rad)\n",
        "    elif function == \"sec\":\n",
        "      # sec(x) = 1/cos(x)\n",
        "      result = 1 / math.cos(angle_rad)\n",
        "    elif function == \"cot\":\n",
        "      # cot(x) = 1/tan(x) or cos(x)/sin(x)\n",
        "      result = 1 / math.tan(angle_rad)\n",
        "\n",
        "    else:\n",
        "      print(\"Invalid function.\")\n",
        "      return\n",
        "\n",
        "    print(f\"{function}({angle_deg}) = {result:.6f}\")\n",
        "  except ZeroDivisionError:\n",
        "    # Handle cases where the denominator is zero for cosec, sec, or cot\n",
        "    print(f\"{function}({angle_deg}) is undefined (division by zero).\")\n",
        "\n",
        "trig_calculator()"
      ],
      "metadata": {
        "id": "MlJco_urzQlB"
      },
      "execution_count": null,
      "outputs": []
    },
    {
      "cell_type": "code",
      "source": [
        "import math\n",
        "\n",
        "def trig_calculator():\n",
        "  print(\"Trigonometry calculator\")\n",
        "  print(\"Available functions: sin, cos , tan , cosec , sec ,cot\")\n",
        "\n",
        "  angle_deg=float(input(\"Enter the angles in degress:\"))\n",
        "  function=input(\"Enter the function name(e.g., sin, cos):\").strip().lower()\n",
        "\n",
        "  angle_rad=math.radians(angle_deg)\n",
        "\n",
        "  try:\n",
        "    if function==\"sin\":\n",
        "      result=math.sin(angle_rad)rt math\n",
        "    elif function==\"cos\":\n",
        "      result=math.cos(angle_rad)\n",
        "    elif function==\"tan\":\n",
        "      result=math.tan(angle_rad)\n",
        "    elif function==\"cosec\":\n",
        "      result=1 / math.sin(angle_rad)\n",
        "    elif function==\"sec\":\n",
        "      result=1 / math.cos(angle_rad)\n",
        "    elif function==\"cot\":\n",
        "      result=1 / math.tan(angle_deg)\n",
        "\n",
        "    else:\n",
        "      print(\"Invalid function.\")\n",
        "      return\n",
        "\n",
        "    print(f\"{function}({angle_deg})={result:.6f}\")\n",
        "  except ZeroDivisionError:\n",
        "    print(f\"{function}({angle_deg}) is undefined(divison by zero).\")\n",
        "\n",
        "trig_calculator()"
      ],
      "metadata": {
        "colab": {
          "base_uri": "https://localhost:8080/"
        },
        "id": "_W9M6nvepb61",
        "outputId": "7e5352f9-65b7-4cb8-ebde-8a31659207f6"
      },
      "execution_count": null,
      "outputs": [
        {
          "output_type": "stream",
          "name": "stdout",
          "text": [
            "Trigonometry calculator\n",
            "Available functions: sin, cos , tan , cosec , sec ,cot\n",
            "Enter the angles in degress:90\n",
            "Enter the function name(e.g., sin, cos):cos\n",
            "cos(90.0)=0.000000\n"
          ]
        }
      ]
    },
    {
      "cell_type": "markdown",
      "source": [
        "combine the 2 programs and work on the user interface"
      ],
      "metadata": {
        "id": "ls04W0-91icM"
      }
    },
    {
      "cell_type": "code",
      "source": [
        "import math\n",
        "\n",
        "def evaluate_trig_function(expr):\n",
        "    # Expected format: func(angle), e.g. sin(30), cot(45)\n",
        "    try:\n",
        "        func_name, rest = expr.split('(', 1)\n",
        "        angle_str = rest.rstrip(')')\n",
        "        angle_deg = float(angle_str)\n",
        "        angle_rad = math.radians(angle_deg)\n",
        "\n",
        "        if func_name == \"sin\":\n",
        "            return math.sin(angle_rad)\n",
        "        elif func_name == \"cos\":\n",
        "            return math.cos(angle_rad)\n",
        "        elif func_name == \"tan\":\n",
        "            return math.tan(angle_rad)\n",
        "        elif func_name == \"cosec\":\n",
        "            return 1 / math.sin(angle_rad)\n",
        "        elif func_name == \"sec\":\n",
        "            return 1 / math.cos(angle_rad)\n",
        "        elif func_name == \"cot\":\n",
        "            return 1 / math.tan(angle_rad)\n",
        "        else:\n",
        "            print(\"Invalid trig function.\")\n",
        "            return None\n",
        "    except Exception as e:\n",
        "        print(\"Error in trig expression:\", e)\n",
        "        return None\n",
        "\n",
        "def is_trig_expression(expr):\n",
        "    # Check if expr matches trig pattern like sin(30)\n",
        "    trig_funcs = ['sin', 'cos', 'tan', 'cosec', 'sec', 'cot']\n",
        "    for func in trig_funcs:\n",
        "        if expr.startswith(func + '(') and expr.endswith(')'):\n",
        "            return True\n",
        "    return False\n",
        "\n",
        "def calculator():\n",
        "    print(\"Simple Calculator — enter expressions like '2+3*4' or trig functions like 'sin(30)'.\")\n",
        "    print(\"Type 'clear' to reset, 'exit' to quit.\")\n",
        "\n",
        "    expression = \"\"\n",
        "\n",
        "    while True:\n",
        "        print(\"\\nScreen: \" + expression)\n",
        "        user_input = input(\"Enter next input (number/operator/trig function/ = / clear / exit): \").strip()\n",
        "\n",
        "        if user_input.lower() == 'exit':\n",
        "            print(\"Exiting calculator. Bye!\")\n",
        "            break\n",
        "        elif user_input.lower() == 'clear':\n",
        "            expression = \"\"\n",
        "            continue\n",
        "        elif user_input == '=':\n",
        "            if is_trig_expression(expression):\n",
        "                result = evaluate_trig_function(expression)\n",
        "                if result is not None:\n",
        "                    print(f\"Result: {result:.6f}\")\n",
        "                expression = \"\"\n",
        "            else:\n",
        "                try:\n",
        "                    # Evaluate normal arithmetic\n",
        "                    result = eval(expression)\n",
        "                    print(f\"Result: {result}\")\n",
        "                except Exception as e:\n",
        "                    print(\"Error evaluating expression:\", e)\n",
        "                expression = \"\"\n",
        "        else:\n",
        "            # Add input to expression\n",
        "            expression += user_input\n",
        "\n",
        "if __name__ == \"__main__\":\n",
        "    calculator()\n"
      ],
      "metadata": {
        "colab": {
          "base_uri": "https://localhost:8080/"
        },
        "id": "3w8APu7R63yb",
        "outputId": "988c6c4d-040c-43b9-ef6c-09a2e2af106a"
      },
      "execution_count": null,
      "outputs": [
        {
          "metadata": {
            "tags": null
          },
          "name": "stdout",
          "output_type": "stream",
          "text": [
            "Simple Calculator — enter expressions like '2+3*4' or trig functions like 'sin(30)'.\n",
            "Type 'clear' to reset, 'exit' to quit.\n",
            "\n",
            "Screen: \n"
          ]
        }
      ]
    },
    {
      "cell_type": "code",
      "source": [
        "# Program make a simple calculator that can add, subtract, multiply and divide using functions\n",
        "\n",
        "# define functions\n",
        "def add(x, y):\n",
        "   \"\"\"This function adds two numbers\"\"\"\n",
        "\n",
        "   return x + y\n",
        "\n",
        "def subtract(x, y):\n",
        "   \"\"\"This function subtracts two numbers\"\"\"\n",
        "\n",
        "   return x - y\n",
        "\n",
        "def multiply(x, y):\n",
        "   \"\"\"This function multiplies two numbers\"\"\"\n",
        "\n",
        "   return x * y\n",
        "\n",
        "def divide(x, y):\n",
        "   \"\"\"This function divides two numbers\"\"\"\n",
        "\n",
        "   return x / y\n",
        "\n",
        "# take input from the user\n",
        "print(\"Select operation.\")\n",
        "print(\"1.Add\")\n",
        "print(\"2.Subtract\")\n",
        "print(\"3.Multiply\")\n",
        "print(\"4.Divide\")\n",
        "\n",
        "choice = input(\"Enter choice(1/2/3/4):\")\n",
        "\n",
        "num1 = int(input(\"Enter first number: \"))\n",
        "num2 = int(input(\"Enter second number: \"))\n",
        "\n",
        "if choice == '1':\n",
        "   print(num1,\"+\",num2,\"=\", add(num1,num2))\n",
        "\n",
        "elif choice == '2':\n",
        "   print(num1,\"-\",num2,\"=\", subtract(num1,num2))\n",
        "\n",
        "elif choice == '3':\n",
        "   print(num1,\"*\",num2,\"=\", multiply(num1,num2))\n",
        "\n",
        "elif choice == '4':\n",
        "   print(num1,\"/\",num2,\"=\", divide(num1,num2))\n",
        "else:\n",
        "   print(\"Invalid input\")"
      ],
      "metadata": {
        "id": "Q5HDpSEtuTAB"
      },
      "execution_count": null,
      "outputs": []
    }
  ]
}